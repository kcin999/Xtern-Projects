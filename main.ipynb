{
 "cells": [
  {
   "cell_type": "markdown",
   "metadata": {},
   "source": [
    "# Xtern Data Science Work Sample Assessment\n",
    "\n",
    "## Data Sets\n",
    "### Given Address's"
   ]
  },
  {
   "cell_type": "code",
   "execution_count": null,
   "metadata": {},
   "outputs": [],
   "source": [
    "import pandas\n",
    "import IPython\n",
    "\n",
    "IPython.display.display(pandas.read_csv(\"address.csv\"))"
   ]
  },
  {
   "cell_type": "markdown",
   "metadata": {},
   "source": [
    "### Events In Indy\n",
    "#### Information was found from both Downtown Indy and VisitIndy"
   ]
  },
  {
   "cell_type": "code",
   "execution_count": null,
   "metadata": {},
   "outputs": [],
   "source": [
    "IPython.display.display(pandas.read_csv(\"eventsInIndy.csv\"))"
   ]
  },
  {
   "cell_type": "markdown",
   "metadata": {},
   "source": [
    "#### Information found from EventBrite.\n",
    "* Idea on how to find this data was found here: [Stevesie Data](https://www.youtube.com/watch?v=GsLuV_Oc9h0). \n",
    "* Reason I had to go through this wierd way was due to the fact that EventBrite disabled their /search Endpoint. \n",
    "* See file [jsonToCSV](https://github.com/kcin999/Xtern-Projects/blob/main/jsonToCSV.py) in parent directory to see how I cleaned the data from [raw_eventbrite.json](https://github.com/kcin999/Xtern-Projects/blob/main/raw_eventbrite.json) and turned it into [eventbrite.csv](https://github.com/kcin999/Xtern-Projects/blob/main/eventbrite.csv)"
   ]
  },
  {
   "cell_type": "code",
   "execution_count": null,
   "metadata": {},
   "outputs": [],
   "source": [
    "IPython.display.display(pandas.read_csv(\"eventbrite.csv\"))"
   ]
  },
  {
   "cell_type": "code",
   "execution_count": null,
   "metadata": {},
   "outputs": [],
   "source": []
  }
 ],
 "metadata": {
  "interpreter": {
   "hash": "4a51cf5cd64b7bb76e2a4f7c224ddbb888b2bf9c3177263c1dd565b15ab97e9c"
  },
  "kernelspec": {
   "display_name": "Python 3 (ipykernel)",
   "language": "python",
   "name": "python3"
  },
  "language_info": {
   "codemirror_mode": {
    "name": "ipython",
    "version": 3
   },
   "file_extension": ".py",
   "mimetype": "text/x-python",
   "name": "python",
   "nbconvert_exporter": "python",
   "pygments_lexer": "ipython3",
   "version": "3.10.0"
  }
 },
 "nbformat": 4,
 "nbformat_minor": 2
}
