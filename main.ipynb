{
 "cells": [
  {
   "cell_type": "markdown",
   "metadata": {},
   "source": [
    "# Xtern Data Science Work Sample Assessment\n",
    "\n",
    "## Data Sets\n",
    "### Given Address's"
   ]
  },
  {
   "cell_type": "code",
   "execution_count": null,
   "metadata": {},
   "outputs": [],
   "source": [
    "import pandas\n",
    "import IPython\n",
    "\n",
    "address = pandas.read_csv(\"address.csv\")\n",
    "IPython.display.display(address)"
   ]
  },
  {
   "cell_type": "markdown",
   "metadata": {},
   "source": [
    "### Events In Indy\n",
    "#### Information was found from both Downtown Indy and VisitIndy"
   ]
  },
  {
   "cell_type": "code",
   "execution_count": null,
   "metadata": {},
   "outputs": [],
   "source": [
    "IPython.display.display(pandas.read_csv(\"eventsInIndy.csv\"))"
   ]
  },
  {
   "cell_type": "markdown",
   "metadata": {},
   "source": [
    "#### Information found from EventBrite.\n",
    "* Idea on how to find this data was found here: [Stevesie Data](https://www.youtube.com/watch?v=GsLuV_Oc9h0). \n",
    "* Reason I had to go through this wierd way was due to the fact that EventBrite disabled their /search Endpoint. \n",
    "* See file [jsonToCSV](https://github.com/kcin999/Xtern-Projects/blob/main/jsonToCSV.py) in parent directory to see how I cleaned the data from [raw_eventbrite.json](https://github.com/kcin999/Xtern-Projects/blob/main/raw_eventbrite.json) and turned it into [eventbrite.csv](https://github.com/kcin999/Xtern-Projects/blob/main/eventbrite.csv)"
   ]
  },
  {
   "cell_type": "code",
   "execution_count": null,
   "metadata": {},
   "outputs": [],
   "source": [
    "IPython.display.display(pandas.read_csv(\"eventbrite.csv\"))"
   ]
  },
  {
   "cell_type": "markdown",
   "metadata": {},
   "source": [
    "## Map Of Locations"
   ]
  },
  {
   "cell_type": "code",
   "execution_count": null,
   "metadata": {},
   "outputs": [],
   "source": [
    "import requests\n",
    "import ipyleaflet\n",
    "import ipywidgets\n",
    "\n",
    "\n",
    "url = \"https://nominatim.openstreetmap.org/search\"\n",
    "\n",
    "markers = []\n",
    "for index,row in address.iterrows():\n",
    "\taddressParams = {\n",
    "\t\t'street': row['Address'].split(', ')[0],\n",
    "\t\t'city:': row['Address'].split(', ')[1],\n",
    "\t\t'state': row['Address'].split(', ')[2].split(' ')[0],\n",
    "\t\t'postalcode': row['Address'].split(', ')[2].split(' ')[1],\n",
    "\t\t'format': 'json'\n",
    "\t}\n",
    "\t#Leverages openstreetmap API to find the latitude and longitude\n",
    "\tresponse = requests.get(url, params = addressParams)\t\n",
    "\tresponse.raise_for_status()\n",
    "\tresults = response.json()[0]\n",
    "\n",
    "\t#Creates teh marker with PopUP\n",
    "\tpopUpMessage = ipywidgets.HTML()\n",
    "\tpopUpMessage.value = results['display_name']\n",
    "\tmarkerToAppend = ipyleaflet.Marker(location=(results['lat'],results['lon']))\n",
    "\tmarkerToAppend.popup = popUpMessage\n",
    "\tmarkers.append(markerToAppend)\n",
    "\n",
    "#Markers have to be in a tuble, in order for them to be added to the MarkerCluster\n",
    "markers = tuple(markers)\n",
    "\n",
    "#centered on the middle of Indianapolis\n",
    "m = ipyleaflet.Map(center=(39.791000,-86.148003), zoom=10, scroll_wheel_zoom=True)\n",
    "\n",
    "#Adds the markers\n",
    "m.add_layer(ipyleaflet.MarkerCluster(markers = markers))\n",
    "\n",
    "#Display the map\n",
    "IPython.display.display(m)"
   ]
  }
 ],
 "metadata": {
  "interpreter": {
   "hash": "4a51cf5cd64b7bb76e2a4f7c224ddbb888b2bf9c3177263c1dd565b15ab97e9c"
  },
  "kernelspec": {
   "display_name": "Python 3 (ipykernel)",
   "language": "python",
   "name": "python3"
  },
  "language_info": {
   "codemirror_mode": {
    "name": "ipython",
    "version": 3
   },
   "file_extension": ".py",
   "mimetype": "text/x-python",
   "name": "python",
   "nbconvert_exporter": "python",
   "pygments_lexer": "ipython3",
   "version": "3.10.0"
  }
 },
 "nbformat": 4,
 "nbformat_minor": 2
}
