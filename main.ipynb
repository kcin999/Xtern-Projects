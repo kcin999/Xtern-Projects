{
 "cells": [
  {
   "cell_type": "code",
   "execution_count": 9,
   "metadata": {},
   "outputs": [
    {
     "name": "stdout",
     "output_type": "stream",
     "text": [
      "                   Name                                        Address  \\\n",
      "0                 IUPUI    415 Porto Alegre St, Indianapolis, IN 46202   \n",
      "1        The Speak Easy      5255 Winthrop Ave, Indianapolis, IN 46220   \n",
      "2                zWORKS            85 E Cedar St, Zionsville, IN 46077   \n",
      "3        Launch Fishers         12175 Visionary Way, Fishers, IN 46038   \n",
      "4  Industrious Mass Ave  350 Massachusetts Ave, Indianapolis, IN 46204   \n",
      "5           Launch Indy      525 S Meridian St, Indianapolis, IN 46225   \n",
      "\n",
      "        Type  \n",
      "0    Housing  \n",
      "1  Coworking  \n",
      "2  Coworking  \n",
      "3  Coworking  \n",
      "4  Coworking  \n",
      "5  Coworking  \n"
     ]
    }
   ],
   "source": [
    "#Imports\n",
    "import pandas\n",
    "\n",
    "\n",
    "#Reads the given address file, which I renamed to address.csv\n",
    "address = pandas.read_csv(\"address.csv\")\n",
    " \n",
    "url = \"https://nominatim.openstreetmap.org/search\"\n",
    "\n",
    "print(address)"
   ]
  },
  {
   "cell_type": "markdown",
   "metadata": {},
   "source": [
    "# THis is markdwon"
   ]
  }
 ],
 "metadata": {
  "interpreter": {
   "hash": "4a51cf5cd64b7bb76e2a4f7c224ddbb888b2bf9c3177263c1dd565b15ab97e9c"
  },
  "kernelspec": {
   "display_name": "Python 3.10.0 64-bit",
   "name": "python3"
  },
  "language_info": {
   "codemirror_mode": {
    "name": "ipython",
    "version": 3
   },
   "file_extension": ".py",
   "mimetype": "text/x-python",
   "name": "python",
   "nbconvert_exporter": "python",
   "pygments_lexer": "ipython3",
   "version": "3.10.0"
  }
 },
 "nbformat": 4,
 "nbformat_minor": 2
}
