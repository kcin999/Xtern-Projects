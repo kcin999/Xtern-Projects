{
 "cells": [
  {
   "cell_type": "code",
   "execution_count": null,
   "metadata": {},
   "outputs": [],
   "source": [
    "#Imports\n",
    "import pandas\n",
    "import requests\n",
    "import ipyleaflet\n",
    "import ipywidgets\n",
    "\n",
    "#Reads the given address file, which I renamed to address.csv\n",
    "address = pandas.read_csv(\"address.csv\")\n",
    " \n",
    "url = \"https://nominatim.openstreetmap.org/search\"\n",
    "\n",
    "markers = []\n",
    "for index, row in address.iterrows():\n",
    "\taddressParams = {\n",
    "\t\t'street': row['Address'].split(', ')[0],\n",
    "\t\t'city': row['Address'].split(', ')[1],\n",
    "\t\t'state': row['Address'].split(', ')[2].split(' ')[0],\n",
    "\t\t'postalcode': row['Address'].split(', ')[2].split(' ')[1],\n",
    "\t\t'format': 'json'\n",
    "\t}\n",
    "\t#Leverages openstreetmap API to find the latitude and longitude\n",
    "\tresponse = requests.get(url, params = addressParams)\n",
    "\tresponse.raise_for_status()\n",
    "\tresults = response.json()[0]\n",
    "\n",
    "\t#Creates the marker with PopUp\n",
    "\tpopUpMessage = ipywidgets.HTML()\n",
    "\tpopUpMessage.value = results['display_name']\n",
    "\tmarkerToAppend = ipyleaflet.Marker(location=(results['lat'],results['lon']))\n",
    "\tmarkerToAppend.popup = popUpMessage\n",
    "\tmarkers.append(markerToAppend)\n",
    "\n",
    "#Markers have to be in a tuble, in order for them to be added to the MarkerCluster\n",
    "markers = tuple(markers)\n",
    "\n",
    "#centered on the middle of Indianapolis\n",
    "m = ipyleaflet.Map(center=(39.791000,-86.148003), zoom=10, scroll_wheel_zoom=True)\n",
    "\n",
    "#Adds the markers\n",
    "m.add_layer(ipyleaflet.MarkerCluster(markers = markers))\n",
    "\n",
    "#Display the map\n",
    "m"
   ]
  },
  {
   "cell_type": "markdown",
   "metadata": {},
   "source": [
    "# THis is markdwon"
   ]
  }
 ],
 "metadata": {
  "interpreter": {
   "hash": "4a51cf5cd64b7bb76e2a4f7c224ddbb888b2bf9c3177263c1dd565b15ab97e9c"
  },
  "kernelspec": {
   "display_name": "Python 3.10.0 64-bit",
   "name": "python3"
  },
  "language_info": {
   "codemirror_mode": {
    "name": "ipython",
    "version": 3
   },
   "file_extension": ".py",
   "mimetype": "text/x-python",
   "name": "python",
   "nbconvert_exporter": "python",
   "pygments_lexer": "ipython3",
   "version": "3.10.0"
  }
 },
 "nbformat": 4,
 "nbformat_minor": 2
}
