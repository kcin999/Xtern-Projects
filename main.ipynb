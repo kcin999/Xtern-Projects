{
 "cells": [
  {
   "cell_type": "markdown",
   "metadata": {},
   "source": [
    "# X-tern Data Science Work Sample Assessment\n",
    "\n",
    "## Information:\n",
    "When this page first loads, you may have to run all cells. It may take a minute or two to load in the map towards the bottom. \n",
    "\n",
    "## Deliverables\n",
    "1. Clean and organize your data set then present the data as a table or data frame. \n",
    "\t* Please see the [Data Sets Section](https://colab.research.google.com/drive/1hih0q5XBeb29IIPexmfS6qqjDfOLjdoZ#scrollTo=Y4tcJ4loBlBd) below for all of the data sets cleaned. \n",
    "2. Cluster housing, restaurants, event, conference locations to pick out the most convenient coworking space. \n",
    "\t* Please see the [Map Of Locations Section](https://colab.research.google.com/drive/1hih0q5XBeb29IIPexmfS6qqjDfOLjdoZ#scrollTo=8lRLoLqsBlBk) below.\n",
    "\t* When the map loads, there will be a lot of markers. You can look at the top right corner to be able to add and remove some of these markers.\n",
    "3. Review the data and draw any conclusions you can find from the data set you gathered. \n",
    "4. Present a sample 10-week activities plan with event date, event location and event detail. \n",
    "5. Demonstrate your findings using data visualization tool and well written analysis."
   ]
  },
  {
   "cell_type": "markdown",
   "metadata": {},
   "source": [
    "## Data Sets"
   ]
  },
  {
   "cell_type": "code",
   "execution_count": null,
   "metadata": {},
   "outputs": [],
   "source": [
    "import pandas\n",
    "import IPython\n",
    "\n",
    "address = pandas.read_csv(\"https://github.com/kcin999/Xtern-Projects/blob/main/address.csv\")\n",
    "IPython.display.display(address)"
   ]
  },
  {
   "cell_type": "markdown",
   "metadata": {},
   "source": [
    "### Events In Indy\n",
    "#### Information was found from both Downtown Indy and VisitIndy"
   ]
  },
  {
   "cell_type": "code",
   "execution_count": null,
   "metadata": {},
   "outputs": [],
   "source": [
    "eventsInIndy = pandas.read_csv(\"https://github.com/kcin999/Xtern-Projects/blob/main/eventsInIndy.csv\")\n",
    "IPython.display.display(eventsInIndy)"
   ]
  },
  {
   "cell_type": "markdown",
   "metadata": {},
   "source": [
    "#### Information found from EventBrite.\n",
    "* Idea on how to find this data was found here: [Stevesie Data](https://www.youtube.com/watch?v=GsLuV_Oc9h0). \n",
    "* Reason I had to go through this wierd way was due to the fact that EventBrite disabled their /search Endpoint. \n",
    "* See file [jsonToCSV](https://github.com/kcin999/Xtern-Projects/blob/main/jsonToCSV.py) in parent directory to see how I cleaned the data from [raw_eventbrite.json](https://github.com/kcin999/Xtern-Projects/blob/main/raw_eventbrite.json) and turned it into [eventbrite.csv](https://github.com/kcin999/Xtern-Projects/blob/main/eventbrite.csv)"
   ]
  },
  {
   "cell_type": "code",
   "execution_count": null,
   "metadata": {},
   "outputs": [],
   "source": [
    "eventBrite = pandas.read_csv(\"https://github.com/kcin999/Xtern-Projects/blob/main/eventbrite.csv\")\n",
    "IPython.display.display(eventBrite)"
   ]
  },
  {
   "cell_type": "markdown",
   "metadata": {},
   "source": [
    "### Restaurants"
   ]
  },
  {
   "cell_type": "code",
   "execution_count": null,
   "metadata": {},
   "outputs": [],
   "source": [
    "restaurants = pandas.read_csv(\"https://github.com/kcin999/Xtern-Projects/blob/main/restaurants.csv\")\n",
    "IPython.display.display(restaurants)"
   ]
  },
  {
   "cell_type": "markdown",
   "metadata": {},
   "source": [
    "## Map Of Locations\n",
    "* Markers that are in <span style=\"color:red\">red</span> are co-working areas.\n",
    "* Markers that are in <span style=\"color:purple\">purple</span> are housing.\n",
    "* Markers that are in <span style=\"color:blue\">blue</span> are events.\n",
    "* Markers that are in <span style=\"color:green\">green</span> are restaurants"
   ]
  },
  {
   "cell_type": "code",
   "execution_count": 43,
   "metadata": {},
   "outputs": [
    {
     "data": {
      "application/vnd.jupyter.widget-view+json": {
       "model_id": "f5ec705dfb824b6994396acf38449d6f",
       "version_major": 2,
       "version_minor": 0
      },
      "text/plain": [
       "Map(center=[39.791, -86.148003], controls=(ZoomControl(options=['position', 'zoom_in_text', 'zoom_in_title', '…"
      ]
     },
     "metadata": {},
     "output_type": "display_data"
    }
   ],
   "source": [
    "import requests\n",
    "import ipyleaflet\n",
    "import ipywidgets\n",
    "\n",
    "\n",
    "url = \"https://nominatim.openstreetmap.org/search\"\n",
    "\n",
    "addressMarkers = []\n",
    "addressIcon = ipyleaflet.AwesomeIcon(name=\"building\",marker_color=\"red\")\n",
    "homeIcon = ipyleaflet.AwesomeIcon(name=\"home\",marker_color=\"purple\")\n",
    "\n",
    "for index,row in address.iterrows():\n",
    "\taddressParams = {\n",
    "\t\t'street': row['Address'].split(', ')[0],\n",
    "\t\t'city:': row['Address'].split(', ')[1],\n",
    "\t\t'state': row['Address'].split(', ')[2].split(' ')[0],\n",
    "\t\t'postalcode': row['Address'].split(', ')[2].split(' ')[1],\n",
    "\t\t'format': 'json'\n",
    "\t}\n",
    "\t#Leverages openstreetmap API to find the latitude and longitude\n",
    "\tresponse = requests.get(url, params = addressParams)\t\n",
    "\tresponse.raise_for_status()\n",
    "\tresults = response.json()[0]\n",
    "\t#Creates the marker with PopUP\n",
    "\tpopUpMessage = ipywidgets.HTML()\n",
    "\tpopUpMessage.value = results['display_name']\n",
    "\tif (row['Type'] == \"Housing\"):\n",
    "\t\tmarkerToAppend = ipyleaflet.Marker(icon=homeIcon,location=(results['lat'],results['lon']))\n",
    "\telse:\n",
    "\t\tmarkerToAppend = ipyleaflet.Marker(icon=addressIcon,location=(results['lat'],results['lon']))\n",
    "\tmarkerToAppend.popup = popUpMessage\n",
    "\taddressMarkers.append(markerToAppend)\n",
    "\n",
    "#Markers have to be in a tuble, in order for them to be added to the MarkerCluster\n",
    "addressMarkers = tuple(addressMarkers)\n",
    "\n",
    "#Restaurant Markers\n",
    "restaurantMarkers = []\n",
    "restaurantIcon = ipyleaflet.AwesomeIcon(name=\"cutlery\",marker_color=\"green\")\n",
    "for index,row in restaurants.iterrows():\n",
    "\tpopUpMessage = ipywidgets.HTML()\n",
    "\tpopUpMessage.value = row['restaurant_name']\n",
    "\tmarkerToAppend = ipyleaflet.Marker(icon=restaurantIcon,location=(row['geo.lat'],row['geo.lon']))\n",
    "\tmarkerToAppend.popup = popUpMessage\n",
    "\trestaurantMarkers.append(markerToAppend)\n",
    "\n",
    "#Event Markers\n",
    "eventIcon = ipyleaflet.AwesomeIcon(name=\"calendar\",marker_color=\"blue\")\n",
    "\n",
    "eventMarkers = []\n",
    "for index,row in eventbrite.iterrows():\n",
    "\tpopUpMessage = ipywidgets.HTML()\n",
    "\tpopUpMessage.value = row['name']\n",
    "\tmarkerToAppend = ipyleaflet.Marker(icon=eventIcon,location=(row['primary_venue.address.latitude'],row['primary_venue.address.longitude']))\n",
    "\tmarkerToAppend.popup = popUpMessage\n",
    "\teventMarkers.append(markerToAppend)\n",
    "\n",
    "for index,row in eventsInIndy.iterrows():\n",
    "\taddressParams = {\n",
    "\t\t'street': row['address'].split(', ')[0],\n",
    "\t\t'city:': row['address'].split(', ')[1],\n",
    "\t\t'state': row['address'].split(', ')[2].split(' ')[0],\n",
    "\t\t'postalcode': row['address'].split(', ')[2].split(' ')[1],\n",
    "\t\t'format': 'json'\n",
    "\t}\n",
    "\t#Leverages openstreetmap API to find the latitude and longitude\n",
    "\tresponse = requests.get(url, params = addressParams)\t\n",
    "\tresponse.raise_for_status()\n",
    "\ttry:\n",
    "\t\tresults = response.json()[0]\n",
    "\t\t#Creates the marker with PopUP\n",
    "\t\tpopUpMessage = ipywidgets.HTML()\n",
    "\t\tpopUpMessage.value = row['eventName']\n",
    "\t\tmarkerToAppend = ipyleaflet.Marker(icon=eventIcon,location=(results['lat'],results['lon']))\n",
    "\t\tmarkerToAppend.popup = popUpMessage\n",
    "\t\teventMarkers.append(markerToAppend)\n",
    "\texcept:\n",
    "\t\tpass\n",
    "\n",
    "\n",
    "\n",
    "#centered on the middle of Indianapolis\n",
    "m = ipyleaflet.Map(center=(39.791000,-86.148003), zoom=10, scroll_wheel_zoom=True)\n",
    "\n",
    "#Adds the markers\n",
    "m.add_layer(ipyleaflet.MarkerCluster(name = \"Housing and Coworking\",markers = addressMarkers))\n",
    "m.add_layer(ipyleaflet.MarkerCluster(name = \"Restaurants\",markers = restaurantMarkers))\n",
    "m.add_layer(ipyleaflet.MarkerCluster(name = \"Events\",markers = eventMarkers))\n",
    "\n",
    "m.add_control(ipyleaflet.LayersControl(position=\"topright\"))\n",
    "\n",
    "#Display the map\n",
    "IPython.display.display(m)"
   ]
  },
  {
   "cell_type": "code",
   "execution_count": null,
   "metadata": {},
   "outputs": [],
   "source": []
  }
 ],
 "metadata": {
  "interpreter": {
   "hash": "4a51cf5cd64b7bb76e2a4f7c224ddbb888b2bf9c3177263c1dd565b15ab97e9c"
  },
  "kernelspec": {
   "display_name": "Python 3 (ipykernel)",
   "language": "python",
   "name": "python3"
  },
  "language_info": {
   "codemirror_mode": {
    "name": "ipython",
    "version": 3
   },
   "file_extension": ".py",
   "mimetype": "text/x-python",
   "name": "python",
   "nbconvert_exporter": "python",
   "pygments_lexer": "ipython3",
   "version": "3.10.0"
  }
 },
 "nbformat": 4,
 "nbformat_minor": 2
}
